{
  "nbformat": 4,
  "nbformat_minor": 0,
  "metadata": {
    "colab": {
      "name": "Untitled69.ipynb",
      "provenance": [],
      "collapsed_sections": [],
      "toc_visible": true
    },
    "kernelspec": {
      "name": "python3",
      "display_name": "Python 3"
    },
    "language_info": {
      "name": "python"
    },
    "accelerator": "GPU"
  },
  "cells": [
    {
      "cell_type": "markdown",
      "metadata": {
        "id": "d6JTUkshzQjY"
      },
      "source": [
        "## RUN THIS NOTEBOOK DIRECTLY IN GOOGLE COLAB\n",
        "### Upload kaggle.json rest of the things will be uploaded with the help of kaggle api\n",
        "### To make submissions to kaggle change validation data to 0 and uncomment last cell\n"
      ]
    },
    {
      "cell_type": "code",
      "metadata": {
        "id": "omQejUly47tq",
        "colab": {
          "base_uri": "https://localhost:8080/"
        },
        "outputId": "cdba09a9-8abc-43a6-895e-4b017d4a512e"
      },
      "source": [
        "!pip install kaggle\n",
        "\n",
        "!mkdir -p ~/.kaggle\n",
        "!cp kaggle.json ~/.kaggle/\n",
        "!chmod 600 ~/.kaggle/kaggle.json \n",
        "!ls ~/.kaggle\n",
        "\n",
        "#downloading dataset zip files\n",
        "!kaggle competitions download -c digit-recognizer\n",
        "\n",
        "#unzipping\n",
        "!unzip -q \"../content/train.csv.zip\"\n",
        "!unzip -q \"../content/test.csv.zip\""
      ],
      "execution_count": 263,
      "outputs": [
        {
          "output_type": "stream",
          "text": [
            "Requirement already satisfied: kaggle in /usr/local/lib/python3.7/dist-packages (1.5.12)\n",
            "Requirement already satisfied: python-slugify in /usr/local/lib/python3.7/dist-packages (from kaggle) (5.0.2)\n",
            "Requirement already satisfied: requests in /usr/local/lib/python3.7/dist-packages (from kaggle) (2.23.0)\n",
            "Requirement already satisfied: tqdm in /usr/local/lib/python3.7/dist-packages (from kaggle) (4.41.1)\n",
            "Requirement already satisfied: urllib3 in /usr/local/lib/python3.7/dist-packages (from kaggle) (1.24.3)\n",
            "Requirement already satisfied: python-dateutil in /usr/local/lib/python3.7/dist-packages (from kaggle) (2.8.1)\n",
            "Requirement already satisfied: certifi in /usr/local/lib/python3.7/dist-packages (from kaggle) (2020.12.5)\n",
            "Requirement already satisfied: six>=1.10 in /usr/local/lib/python3.7/dist-packages (from kaggle) (1.15.0)\n",
            "Requirement already satisfied: text-unidecode>=1.3 in /usr/local/lib/python3.7/dist-packages (from python-slugify->kaggle) (1.3)\n",
            "Requirement already satisfied: idna<3,>=2.5 in /usr/local/lib/python3.7/dist-packages (from requests->kaggle) (2.10)\n",
            "Requirement already satisfied: chardet<4,>=3.0.2 in /usr/local/lib/python3.7/dist-packages (from requests->kaggle) (3.0.4)\n",
            "kaggle.json\n",
            "Warning: Looks like you're using an outdated API Version, please consider updating (server 1.5.12 / client 1.5.4)\n",
            "train.csv.zip: Skipping, found more recently modified local copy (use --force to force download)\n",
            "sample_submission.csv: Skipping, found more recently modified local copy (use --force to force download)\n",
            "test.csv.zip: Skipping, found more recently modified local copy (use --force to force download)\n"
          ],
          "name": "stdout"
        }
      ]
    },
    {
      "cell_type": "code",
      "metadata": {
        "id": "jSyrwFMs4_NW"
      },
      "source": [
        "import numpy as np\n",
        "import pandas as pd\n",
        "import matplotlib.pyplot as plt\n",
        "import torch\n",
        "import torch.nn as nn\n",
        "import torchvision.datasets as dsets\n",
        "import torchvision.transforms as transforms\n",
        "from torch.autograd import Variable\n",
        "from torch.utils.data import Dataset, DataLoader, random_split, SubsetRandomSampler"
      ],
      "execution_count": 264,
      "outputs": []
    },
    {
      "cell_type": "markdown",
      "metadata": {
        "id": "JvKY_7LZzvMM"
      },
      "source": [
        "### ENABLE GPU IN COLAB"
      ]
    },
    {
      "cell_type": "code",
      "metadata": {
        "colab": {
          "base_uri": "https://localhost:8080/"
        },
        "id": "YIXgPvxaHeMQ",
        "outputId": "a0426d3d-8850-4c71-cc61-7745fd368d91"
      },
      "source": [
        "device = torch.device('cuda' if torch.cuda.is_available() else 'cpu')\n",
        "device"
      ],
      "execution_count": 265,
      "outputs": [
        {
          "output_type": "execute_result",
          "data": {
            "text/plain": [
              "device(type='cuda')"
            ]
          },
          "metadata": {
            "tags": []
          },
          "execution_count": 265
        }
      ]
    },
    {
      "cell_type": "code",
      "metadata": {
        "id": "Y_lgqyAq5Les"
      },
      "source": [
        "num_epochs = 25\n",
        "batch_size = 1024\n",
        "learning_rate = 0.00005"
      ],
      "execution_count": 266,
      "outputs": []
    },
    {
      "cell_type": "markdown",
      "metadata": {
        "id": "jUvAS1lnz30f"
      },
      "source": [
        "### GETTING TRAINING AND TESTING DATA FROM ZIP FILES \n",
        "### Normalizing them\n",
        "### converting to tensors when called"
      ]
    },
    {
      "cell_type": "code",
      "metadata": {
        "id": "Qk0pt0X25Muu"
      },
      "source": [
        "class CustomedDataSet(torch.utils.data.Dataset):\n",
        "    def __init__(self, train=True):\n",
        "        self.train = train\n",
        "        if self.train :\n",
        "            trainX = pd.read_csv('train.csv')\n",
        "            trainY = trainX.label.to_numpy().tolist()\n",
        "            trainX = trainX.drop('label',axis=1).to_numpy().reshape(trainX.shape[0], 1, 28, 28)\n",
        "            trainX = (trainX - 0.1307)/0.3081\n",
        "            \n",
        "            self.datalist = trainX\n",
        "            self.labellist = trainY\n",
        "        else:\n",
        "            testX = pd.read_csv('test.csv')\n",
        "            testX = (testX - 0.1307)/0.3081\n",
        "            testX = testX.to_numpy().reshape(testX.shape[0], 1, 28, 28)\n",
        "            self.datalist = testX\n",
        "            \n",
        "    def __getitem__(self, index):\n",
        "        if self.train:\n",
        "            return torch.Tensor(self.datalist[index].astype(float)),self.labellist[index]\n",
        "        else:\n",
        "            return torch.Tensor(self.datalist[index].astype(float))\n",
        "    \n",
        "    def __len__(self):\n",
        "        return self.datalist.shape[0]"
      ],
      "execution_count": 267,
      "outputs": []
    },
    {
      "cell_type": "markdown",
      "metadata": {
        "id": "ezuV9dRp0Oya"
      },
      "source": [
        "### Getting training dataset in train_dataset"
      ]
    },
    {
      "cell_type": "code",
      "metadata": {
        "id": "D_UihLA25Quc"
      },
      "source": [
        "train_dataset = CustomedDataSet()"
      ],
      "execution_count": 268,
      "outputs": []
    },
    {
      "cell_type": "markdown",
      "metadata": {
        "id": "zRedNxEb0T6x"
      },
      "source": [
        "### Splitting the known dataset into training and validation set in order to get best fit of hyperparameters laater on we need to train on whole given data"
      ]
    },
    {
      "cell_type": "code",
      "metadata": {
        "id": "rwsQBNrp86tA"
      },
      "source": [
        "validation_split = .2\n",
        "shuffle_dataset = True\n",
        "random_seed= 42\n",
        "\n",
        "# Creating data indices for training and validation splits:\n",
        "dataset_size = len(train_dataset)\n",
        "indices = list(range(dataset_size))\n",
        "split = int(np.floor(validation_split * dataset_size))\n",
        "if shuffle_dataset :\n",
        "    np.random.seed(random_seed)\n",
        "    np.random.shuffle(indices)\n",
        "train_indices, val_indices = indices[split:], indices[:split]\n",
        "\n",
        "# Creating PT data samplers and loaders:\n",
        "train_sampler = SubsetRandomSampler(train_indices)\n",
        "valid_sampler = SubsetRandomSampler(val_indices)"
      ],
      "execution_count": 269,
      "outputs": []
    },
    {
      "cell_type": "markdown",
      "metadata": {
        "id": "SuQ_jUzh0oDP"
      },
      "source": [
        "### Getting data on which we have to make predictions"
      ]
    },
    {
      "cell_type": "code",
      "metadata": {
        "id": "OoBGK7Su5R1n"
      },
      "source": [
        "test_dataset = CustomedDataSet(train=False)"
      ],
      "execution_count": 270,
      "outputs": []
    },
    {
      "cell_type": "markdown",
      "metadata": {
        "id": "BZ8RcYpV0tuz"
      },
      "source": [
        "### Dataloader has been used to parallelize the data loading as this boosts up the speed and saves memory."
      ]
    },
    {
      "cell_type": "code",
      "metadata": {
        "id": "QzxQJsDH5TPR"
      },
      "source": [
        "# train_loader = torch.utils.data.DataLoader(dataset=train_dataset,\n",
        "#                                            batch_size=batch_size,\n",
        "#                                            shuffle=True,\n",
        "#                                            num_workers=2)\n",
        "train_loader = torch.utils.data.DataLoader(train_dataset, batch_size=batch_size, \n",
        "                                           sampler=train_sampler)\n",
        "validation_loader = torch.utils.data.DataLoader(train_dataset, batch_size=batch_size,\n",
        "                                                sampler=valid_sampler)\n",
        "test_loader = torch.utils.data.DataLoader(dataset=test_dataset,\n",
        "                                          batch_size=batch_size,\n",
        "                                          shuffle=False)"
      ],
      "execution_count": 271,
      "outputs": []
    },
    {
      "cell_type": "markdown",
      "metadata": {
        "id": "oIZQigjm041v"
      },
      "source": [
        "### Defining cnn class "
      ]
    },
    {
      "cell_type": "code",
      "metadata": {
        "id": "hfsie4oa5XER"
      },
      "source": [
        "import torch.nn as nn\n",
        "class ConvNet(nn.Module):\n",
        "    def __init__(self):\n",
        "        super(ConvNet, self).__init__()\n",
        "        self.layer1 = nn.Sequential(\n",
        "            nn.Conv2d(1, 32, kernel_size=5, stride=1, padding=2),\n",
        "            nn.BatchNorm2d(32),\n",
        "            nn.LeakyReLU(0.02),\n",
        "            nn.MaxPool2d(kernel_size=2, stride=2))\n",
        "        self.drop_out = nn.Dropout(0.4)\n",
        "        self.layer2 = nn.Sequential(\n",
        "            nn.Conv2d(32, 64, kernel_size=5, stride=1, padding=2),\n",
        "            nn.BatchNorm2d(64),\n",
        "            nn.LeakyReLU(0.02),\n",
        "            nn.MaxPool2d(kernel_size=2, stride=2))\n",
        "        self.fc1 = nn.Linear(7 * 7 * 64, 1000)\n",
        "        self.fc2 = nn.Linear(1000, 10)\n",
        "    def forward(self, x):\n",
        "        out = self.layer1(x)\n",
        "        out = self.layer2(out)\n",
        "        out = out.reshape(out.size(0), -1)\n",
        "        out = self.drop_out(out)\n",
        "        out = self.fc1(out)\n",
        "        out = self.fc2(out)\n",
        "        return out"
      ],
      "execution_count": 272,
      "outputs": []
    },
    {
      "cell_type": "markdown",
      "metadata": {
        "id": "HC_1dLOL0-8E"
      },
      "source": [
        "### Defining training model with the help of gpu"
      ]
    },
    {
      "cell_type": "code",
      "metadata": {
        "id": "ZrcZXqLD5Zgq",
        "colab": {
          "base_uri": "https://localhost:8080/"
        },
        "outputId": "9ba300e7-8273-4d6d-b2b6-e6e35968e08d"
      },
      "source": [
        "model = ConvNet()\n",
        "model.to(device)"
      ],
      "execution_count": 273,
      "outputs": [
        {
          "output_type": "execute_result",
          "data": {
            "text/plain": [
              "ConvNet(\n",
              "  (layer1): Sequential(\n",
              "    (0): Conv2d(1, 32, kernel_size=(5, 5), stride=(1, 1), padding=(2, 2))\n",
              "    (1): BatchNorm2d(32, eps=1e-05, momentum=0.1, affine=True, track_running_stats=True)\n",
              "    (2): LeakyReLU(negative_slope=0.02)\n",
              "    (3): MaxPool2d(kernel_size=2, stride=2, padding=0, dilation=1, ceil_mode=False)\n",
              "  )\n",
              "  (drop_out): Dropout(p=0.4, inplace=False)\n",
              "  (layer2): Sequential(\n",
              "    (0): Conv2d(32, 64, kernel_size=(5, 5), stride=(1, 1), padding=(2, 2))\n",
              "    (1): BatchNorm2d(64, eps=1e-05, momentum=0.1, affine=True, track_running_stats=True)\n",
              "    (2): LeakyReLU(negative_slope=0.02)\n",
              "    (3): MaxPool2d(kernel_size=2, stride=2, padding=0, dilation=1, ceil_mode=False)\n",
              "  )\n",
              "  (fc1): Linear(in_features=3136, out_features=1000, bias=True)\n",
              "  (fc2): Linear(in_features=1000, out_features=10, bias=True)\n",
              ")"
            ]
          },
          "metadata": {
            "tags": []
          },
          "execution_count": 273
        }
      ]
    },
    {
      "cell_type": "markdown",
      "metadata": {
        "id": "SICqtoG_1TPi"
      },
      "source": [
        "### Using Adam optimizer"
      ]
    },
    {
      "cell_type": "code",
      "metadata": {
        "id": "Z4nCh_9t1Sra"
      },
      "source": [
        "# Loss and optimizer\n",
        "criterion = nn.CrossEntropyLoss()\n",
        "optimizer = torch.optim.Adam(model.parameters(), lr=learning_rate)"
      ],
      "execution_count": 274,
      "outputs": []
    },
    {
      "cell_type": "markdown",
      "metadata": {
        "id": "FC-WdFh61ZvW"
      },
      "source": [
        "### Training model on training dataset"
      ]
    },
    {
      "cell_type": "code",
      "metadata": {
        "colab": {
          "base_uri": "https://localhost:8080/"
        },
        "id": "mKMyejQ75cpF",
        "outputId": "22449ea8-e77a-410e-da33-4437baa44748"
      },
      "source": [
        "#Train the model\n",
        "total_step = len(train_loader)\n",
        "loss_list = []\n",
        "acc_list = []\n",
        "acc_list_epoch = []\n",
        "for epoch in range(num_epochs):\n",
        "    acc_sum_present_epoch = []\n",
        "    for i, (images, labels) in enumerate(train_loader):\n",
        "        images, labels = images.to(device), labels.to(device)\n",
        "        # Run the forward pass\n",
        "        outputs = model(images)\n",
        "        loss = criterion(outputs, labels)\n",
        "        loss_list.append(loss.item())\n",
        "\n",
        "        # Backprop and perform Adam optimisation\n",
        "        optimizer.zero_grad()\n",
        "        loss.backward()\n",
        "        optimizer.step()\n",
        "\n",
        "        # Track the accuracy\n",
        "        total = labels.size(0)\n",
        "        _, predicted = torch.max(outputs.data, 1)\n",
        "        correct = (predicted == labels).sum().item()\n",
        "        acc_list.append((correct * 100)/ total)\n",
        "        acc_sum_present_epoch.append((correct / total) * 100)\n",
        "        print_after = (int)((dataset_size * 0.8)/(batch_size*3))\n",
        "        if (i + 1) % print_after == 0:\n",
        "            print('Epoch [{}/{}], Step [{}/{}], Loss: {:.4f}, Accuracy: {:.2f}%'\n",
        "                  .format(epoch + 1, num_epochs, i + 1, total_step, loss.item(),\n",
        "                          (correct / total) * 100))\n",
        "        \n",
        "        \n",
        "    \n",
        "    acc_list_epoch.append(sum(acc_sum_present_epoch)/len(acc_sum_present_epoch))\n",
        "    #print(acc_sum_present_epoch)\n",
        "    # for i in range(len(acc_sum_present_epoch)):\n",
        "    #     print(i,\" - > \",acc_sum_present_epoch[i])"
      ],
      "execution_count": 275,
      "outputs": [
        {
          "output_type": "stream",
          "text": [
            "Epoch [1/25], Step [10/33], Loss: 1.3267, Accuracy: 69.82%\n",
            "Epoch [1/25], Step [20/33], Loss: 0.7563, Accuracy: 83.98%\n",
            "Epoch [1/25], Step [30/33], Loss: 0.4894, Accuracy: 88.48%\n",
            "Epoch [2/25], Step [10/33], Loss: 0.3900, Accuracy: 89.84%\n",
            "Epoch [2/25], Step [20/33], Loss: 0.2865, Accuracy: 93.26%\n",
            "Epoch [2/25], Step [30/33], Loss: 0.2826, Accuracy: 92.68%\n",
            "Epoch [3/25], Step [10/33], Loss: 0.2076, Accuracy: 94.04%\n",
            "Epoch [3/25], Step [20/33], Loss: 0.1995, Accuracy: 95.21%\n",
            "Epoch [3/25], Step [30/33], Loss: 0.1859, Accuracy: 95.12%\n",
            "Epoch [4/25], Step [10/33], Loss: 0.1595, Accuracy: 95.90%\n",
            "Epoch [4/25], Step [20/33], Loss: 0.1702, Accuracy: 95.31%\n",
            "Epoch [4/25], Step [30/33], Loss: 0.1448, Accuracy: 96.19%\n",
            "Epoch [5/25], Step [10/33], Loss: 0.1204, Accuracy: 97.27%\n",
            "Epoch [5/25], Step [20/33], Loss: 0.1153, Accuracy: 96.78%\n",
            "Epoch [5/25], Step [30/33], Loss: 0.1082, Accuracy: 97.17%\n",
            "Epoch [6/25], Step [10/33], Loss: 0.1181, Accuracy: 97.36%\n",
            "Epoch [6/25], Step [20/33], Loss: 0.1044, Accuracy: 97.17%\n",
            "Epoch [6/25], Step [30/33], Loss: 0.1058, Accuracy: 96.68%\n",
            "Epoch [7/25], Step [10/33], Loss: 0.1080, Accuracy: 97.07%\n",
            "Epoch [7/25], Step [20/33], Loss: 0.0973, Accuracy: 97.46%\n",
            "Epoch [7/25], Step [30/33], Loss: 0.1147, Accuracy: 96.48%\n",
            "Epoch [8/25], Step [10/33], Loss: 0.1015, Accuracy: 96.78%\n",
            "Epoch [8/25], Step [20/33], Loss: 0.0958, Accuracy: 97.27%\n",
            "Epoch [8/25], Step [30/33], Loss: 0.0960, Accuracy: 97.75%\n",
            "Epoch [9/25], Step [10/33], Loss: 0.0776, Accuracy: 97.75%\n",
            "Epoch [9/25], Step [20/33], Loss: 0.0810, Accuracy: 97.95%\n",
            "Epoch [9/25], Step [30/33], Loss: 0.0998, Accuracy: 96.58%\n",
            "Epoch [10/25], Step [10/33], Loss: 0.0983, Accuracy: 97.17%\n",
            "Epoch [10/25], Step [20/33], Loss: 0.0562, Accuracy: 98.44%\n",
            "Epoch [10/25], Step [30/33], Loss: 0.0801, Accuracy: 97.75%\n",
            "Epoch [11/25], Step [10/33], Loss: 0.0590, Accuracy: 98.24%\n",
            "Epoch [11/25], Step [20/33], Loss: 0.0847, Accuracy: 97.36%\n",
            "Epoch [11/25], Step [30/33], Loss: 0.0672, Accuracy: 97.75%\n",
            "Epoch [12/25], Step [10/33], Loss: 0.0702, Accuracy: 97.66%\n",
            "Epoch [12/25], Step [20/33], Loss: 0.0748, Accuracy: 98.05%\n",
            "Epoch [12/25], Step [30/33], Loss: 0.0784, Accuracy: 98.24%\n",
            "Epoch [13/25], Step [10/33], Loss: 0.0615, Accuracy: 98.05%\n",
            "Epoch [13/25], Step [20/33], Loss: 0.0575, Accuracy: 98.05%\n",
            "Epoch [13/25], Step [30/33], Loss: 0.0509, Accuracy: 98.44%\n",
            "Epoch [14/25], Step [10/33], Loss: 0.0592, Accuracy: 98.54%\n",
            "Epoch [14/25], Step [20/33], Loss: 0.0547, Accuracy: 98.63%\n",
            "Epoch [14/25], Step [30/33], Loss: 0.0516, Accuracy: 98.34%\n",
            "Epoch [15/25], Step [10/33], Loss: 0.0608, Accuracy: 98.44%\n",
            "Epoch [15/25], Step [20/33], Loss: 0.0395, Accuracy: 99.02%\n",
            "Epoch [15/25], Step [30/33], Loss: 0.0440, Accuracy: 98.63%\n",
            "Epoch [16/25], Step [10/33], Loss: 0.0462, Accuracy: 98.44%\n",
            "Epoch [16/25], Step [20/33], Loss: 0.0484, Accuracy: 97.95%\n",
            "Epoch [16/25], Step [30/33], Loss: 0.0486, Accuracy: 98.44%\n",
            "Epoch [17/25], Step [10/33], Loss: 0.0440, Accuracy: 99.22%\n",
            "Epoch [17/25], Step [20/33], Loss: 0.0553, Accuracy: 98.63%\n",
            "Epoch [17/25], Step [30/33], Loss: 0.0368, Accuracy: 99.22%\n",
            "Epoch [18/25], Step [10/33], Loss: 0.0566, Accuracy: 98.83%\n",
            "Epoch [18/25], Step [20/33], Loss: 0.0464, Accuracy: 99.02%\n",
            "Epoch [18/25], Step [30/33], Loss: 0.0491, Accuracy: 98.73%\n",
            "Epoch [19/25], Step [10/33], Loss: 0.0388, Accuracy: 98.93%\n",
            "Epoch [19/25], Step [20/33], Loss: 0.0432, Accuracy: 98.63%\n",
            "Epoch [19/25], Step [30/33], Loss: 0.0413, Accuracy: 98.44%\n",
            "Epoch [20/25], Step [10/33], Loss: 0.0417, Accuracy: 99.02%\n",
            "Epoch [20/25], Step [20/33], Loss: 0.0451, Accuracy: 98.93%\n",
            "Epoch [20/25], Step [30/33], Loss: 0.0461, Accuracy: 98.34%\n",
            "Epoch [21/25], Step [10/33], Loss: 0.0484, Accuracy: 99.12%\n",
            "Epoch [21/25], Step [20/33], Loss: 0.0395, Accuracy: 99.02%\n",
            "Epoch [21/25], Step [30/33], Loss: 0.0322, Accuracy: 99.22%\n",
            "Epoch [22/25], Step [10/33], Loss: 0.0421, Accuracy: 98.63%\n",
            "Epoch [22/25], Step [20/33], Loss: 0.0396, Accuracy: 98.73%\n",
            "Epoch [22/25], Step [30/33], Loss: 0.0348, Accuracy: 98.93%\n",
            "Epoch [23/25], Step [10/33], Loss: 0.0366, Accuracy: 98.93%\n",
            "Epoch [23/25], Step [20/33], Loss: 0.0373, Accuracy: 98.83%\n",
            "Epoch [23/25], Step [30/33], Loss: 0.0574, Accuracy: 98.63%\n",
            "Epoch [24/25], Step [10/33], Loss: 0.0433, Accuracy: 99.02%\n",
            "Epoch [24/25], Step [20/33], Loss: 0.0398, Accuracy: 99.22%\n",
            "Epoch [24/25], Step [30/33], Loss: 0.0518, Accuracy: 98.05%\n",
            "Epoch [25/25], Step [10/33], Loss: 0.0345, Accuracy: 98.73%\n",
            "Epoch [25/25], Step [20/33], Loss: 0.0467, Accuracy: 98.34%\n",
            "Epoch [25/25], Step [30/33], Loss: 0.0570, Accuracy: 98.54%\n"
          ],
          "name": "stdout"
        }
      ]
    },
    {
      "cell_type": "code",
      "metadata": {
        "colab": {
          "base_uri": "https://localhost:8080/",
          "height": 809
        },
        "id": "QyqDTCSb_Ggu",
        "outputId": "03df86f1-ee4c-4ed6-d7f2-339c552f9efb"
      },
      "source": [
        "#accuracy curve\n",
        "batch_list = range(1,len(acc_list)+1)\n",
        "plt.plot(batch_list, acc_list, 'b', label='acc_list')\n",
        "plt.title('Acc')\n",
        "plt.legend()\n",
        "plt.show()\n",
        "\n",
        "plt.plot(batch_list, loss_list, 'r', label='loss_list')\n",
        "plt.yscale(\"log\") \n",
        "plt.title('loss')\n",
        "plt.legend()\n",
        "plt.show()\n",
        "\n",
        "#for each epoch\n",
        "epoches = range(1,num_epochs+1)\n",
        "plt.plot(epoches, acc_list_epoch, 'g', label='acc_list_epoch')\n",
        "plt.title('Avg acc vs epoch')\n",
        "plt.legend()\n",
        "plt.show()"
      ],
      "execution_count": 276,
      "outputs": [
        {
          "output_type": "display_data",
          "data": {
            "image/png": "[encoded data removed]",
            "text/plain": [
              "<Figure size 432x288 with 1 Axes>"
            ]
          },
          "metadata": {
            "tags": [],
            "needs_background": "light"
          }
        },
        {
          "output_type": "display_data",
          "data": {
            "image/png": "[encoded data removed]",
            "text/plain": [
              "<Figure size 432x288 with 1 Axes>"
            ]
          },
          "metadata": {
            "tags": [],
            "needs_background": "light"
          }
        },
        {
          "output_type": "display_data",
          "data": {
            "image/png": "[encoded data removed]",
            "text/plain": [
              "<Figure size 432x288 with 1 Axes>"
            ]
          },
          "metadata": {
            "tags": [],
            "needs_background": "light"
          }
        }
      ]
    },
    {
      "cell_type": "code",
      "metadata": {
        "colab": {
          "base_uri": "https://localhost:8080/"
        },
        "id": "OQEygk7T8VES",
        "outputId": "0cea43e6-9af5-45db-ec4e-f382181170f6"
      },
      "source": [
        "# Test the model\n",
        "model.eval()\n",
        "with torch.no_grad():\n",
        "    correct = 0\n",
        "    total = 0\n",
        "    for images, labels in validation_loader:\n",
        "        images, labels = images.to(device), labels.to(device)\n",
        "        outputs = model(images)\n",
        "        _, predicted = torch.max(outputs.data, 1)\n",
        "        total += labels.size(0)\n",
        "        correct += (predicted == labels).sum().item()\n",
        "    print('Train Acc of the model on training images ',acc_list_epoch[-1])\n",
        "    print('Test Accuracy of the model on the  validation images: {} %'.format((correct / total) * 100))"
      ],
      "execution_count": 277,
      "outputs": [
        {
          "output_type": "stream",
          "text": [
            "Train Acc of the model on training images  98.89368444055944\n",
            "Test Accuracy of the model on the  validation images: 98.71428571428571 %\n"
          ],
          "name": "stdout"
        }
      ]
    },
    {
      "cell_type": "code",
      "metadata": {
        "id": "ikxhXqWy5e4j"
      },
      "source": [
        "ans = np.array([])\n",
        "with torch.no_grad():\n",
        "    correct = 0\n",
        "    total = 0\n",
        "    for images in test_loader:\n",
        "        images = images.to(device)\n",
        "        outputs = model(images)\n",
        "        _,predicted = torch.max(outputs.data, 1)\n",
        "        ans = np.append (ans, predicted.to('cpu').numpy())"
      ],
      "execution_count": 278,
      "outputs": []
    },
    {
      "cell_type": "code",
      "metadata": {
        "id": "tTYkD6z-5g33"
      },
      "source": [
        "np.savetxt(\"ans4.csv\", np.dstack((np.arange(1, ans.size+1),ans))[0],\"%d,%d\",header=\"ImageId,Label\",comments=\"\")"
      ],
      "execution_count": 279,
      "outputs": []
    },
    {
      "cell_type": "code",
      "metadata": {
        "id": "t6h4nf4KCapA"
      },
      "source": [
        "#!kaggle competitions submit -c digit-recognizer -f ans4.csv -m \"Message\""
      ],
      "execution_count": 280,
      "outputs": []
    }
  ]
}