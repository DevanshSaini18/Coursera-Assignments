{
  "nbformat": 4,
  "nbformat_minor": 0,
  "metadata": {
    "colab": {
      "name": "Untitled69.ipynb",
      "provenance": [],
      "collapsed_sections": []
    },
    "kernelspec": {
      "name": "python3",
      "display_name": "Python 3"
    },
    "language_info": {
      "name": "python"
    },
    "accelerator": "GPU"
  },
  "cells": [
    {
      "cell_type": "markdown",
      "metadata": {
        "id": "d6JTUkshzQjY"
      },
      "source": [
        "## RUN THIS NOTEBOOK DIRECTLY IN GOOGLE COLAB\n",
        "### Upload kaggle.json rest of the things will be uploaded with the help of kaggle api\n"
      ]
    },
    {
      "cell_type": "markdown",
      "metadata": {
        "id": "HeMNSxPBzhfy"
      },
      "source": [
        ""
      ]
    },
    {
      "cell_type": "code",
      "metadata": {
        "id": "omQejUly47tq"
      },
      "source": [
        "!pip install kaggle\n",
        "\n",
        "!mkdir -p ~/.kaggle\n",
        "!cp kaggle.json ~/.kaggle/\n",
        "!chmod 600 ~/.kaggle/kaggle.json \n",
        "!ls ~/.kaggle\n",
        "\n",
        "#downloading dataset zip files\n",
        "!kaggle competitions download -c digit-recognizer\n",
        "\n",
        "#unzipping\n",
        "!unzip -q \"../content/train.csv.zip\"\n",
        "!unzip -q \"../content/test.csv.zip\""
      ],
      "execution_count": null,
      "outputs": []
    },
    {
      "cell_type": "code",
      "metadata": {
        "id": "jSyrwFMs4_NW"
      },
      "source": [
        "import numpy as np\n",
        "import pandas as pd\n",
        "import matplotlib.pyplot as plt\n",
        "import torch\n",
        "import torch.nn as nn\n",
        "import torchvision.datasets as dsets\n",
        "import torchvision.transforms as transforms\n",
        "from torch.autograd import Variable\n",
        "from torch.utils.data import Dataset, DataLoader, random_split, SubsetRandomSampler"
      ],
      "execution_count": null,
      "outputs": []
    },
    {
      "cell_type": "markdown",
      "metadata": {
        "id": "JvKY_7LZzvMM"
      },
      "source": [
        "### ENABLE GPU IN COLAB"
      ]
    },
    {
      "cell_type": "code",
      "metadata": {
        "colab": {
          "base_uri": "https://localhost:8080/"
        },
        "id": "YIXgPvxaHeMQ",
        "outputId": "4856022f-536b-40c1-e42b-efa33a38f950"
      },
      "source": [
        "device = torch.device('cuda' if torch.cuda.is_available() else 'cpu')\n",
        "device"
      ],
      "execution_count": null,
      "outputs": [
        {
          "output_type": "execute_result",
          "data": {
            "text/plain": [
              "device(type='cuda')"
            ]
          },
          "metadata": {
            "tags": []
          },
          "execution_count": 628
        }
      ]
    },
    {
      "cell_type": "code",
      "metadata": {
        "id": "Y_lgqyAq5Les"
      },
      "source": [
        "num_epochs = 20\n",
        "batch_size = 512\n",
        "learning_rate = 0.0001"
      ],
      "execution_count": null,
      "outputs": []
    },
    {
      "cell_type": "markdown",
      "metadata": {
        "id": "jUvAS1lnz30f"
      },
      "source": [
        "### GETTING TRAINING AND TESTING DATA FROM ZIP FILES \n",
        "### Normalizing them\n",
        "### converting to tensors when called"
      ]
    },
    {
      "cell_type": "code",
      "metadata": {
        "id": "Qk0pt0X25Muu"
      },
      "source": [
        "class CustomedDataSet(torch.utils.data.Dataset):\n",
        "    def __init__(self, train=True):\n",
        "        self.train = train\n",
        "        if self.train :\n",
        "            trainX = pd.read_csv('train.csv')\n",
        "            trainY = trainX.label.to_numpy().tolist()\n",
        "            trainX = trainX.drop('label',axis=1).to_numpy().reshape(trainX.shape[0], 1, 28, 28)\n",
        "            trainX = (trainX - 0.1307)/0.3081\n",
        "            \n",
        "            self.datalist = trainX\n",
        "            self.labellist = trainY\n",
        "        else:\n",
        "            testX = pd.read_csv('test.csv')\n",
        "            testX = (testX - 0.1307)/0.3081\n",
        "            testX = testX.to_numpy().reshape(testX.shape[0], 1, 28, 28)\n",
        "            self.datalist = testX\n",
        "            \n",
        "    def __getitem__(self, index):\n",
        "        if self.train:\n",
        "            return torch.Tensor(self.datalist[index].astype(float)),self.labellist[index]\n",
        "        else:\n",
        "            return torch.Tensor(self.datalist[index].astype(float))\n",
        "    \n",
        "    def __len__(self):\n",
        "        return self.datalist.shape[0]"
      ],
      "execution_count": null,
      "outputs": []
    },
    {
      "cell_type": "markdown",
      "metadata": {
        "id": "ezuV9dRp0Oya"
      },
      "source": [
        "### Getting training dataset in train_dataset"
      ]
    },
    {
      "cell_type": "code",
      "metadata": {
        "id": "D_UihLA25Quc"
      },
      "source": [
        "train_dataset = CustomedDataSet()"
      ],
      "execution_count": null,
      "outputs": []
    },
    {
      "cell_type": "markdown",
      "metadata": {
        "id": "zRedNxEb0T6x"
      },
      "source": [
        "### Splitting the known dataset into training and validation set in order to get best fit of hyperparameters laater on we need to train on whole given data"
      ]
    },
    {
      "cell_type": "code",
      "metadata": {
        "id": "rwsQBNrp86tA"
      },
      "source": [
        "validation_split = .2\n",
        "shuffle_dataset = True\n",
        "random_seed= 42\n",
        "\n",
        "# Creating data indices for training and validation splits:\n",
        "dataset_size = len(train_dataset)\n",
        "indices = list(range(dataset_size))\n",
        "split = int(np.floor(validation_split * dataset_size))\n",
        "if shuffle_dataset :\n",
        "    np.random.seed(random_seed)\n",
        "    np.random.shuffle(indices)\n",
        "train_indices, val_indices = indices[split:], indices[:split]\n",
        "\n",
        "# Creating PT data samplers and loaders:\n",
        "train_sampler = SubsetRandomSampler(train_indices)\n",
        "valid_sampler = SubsetRandomSampler(val_indices)"
      ],
      "execution_count": null,
      "outputs": []
    },
    {
      "cell_type": "markdown",
      "metadata": {
        "id": "SuQ_jUzh0oDP"
      },
      "source": [
        "### Getting data on which we have to make predictions"
      ]
    },
    {
      "cell_type": "code",
      "metadata": {
        "id": "OoBGK7Su5R1n"
      },
      "source": [
        "test_dataset = CustomedDataSet(train=False)"
      ],
      "execution_count": null,
      "outputs": []
    },
    {
      "cell_type": "markdown",
      "metadata": {
        "id": "BZ8RcYpV0tuz"
      },
      "source": [
        "### Dataloader has been used to parallelize the data loading as this boosts up the speed and saves memory."
      ]
    },
    {
      "cell_type": "code",
      "metadata": {
        "id": "QzxQJsDH5TPR"
      },
      "source": [
        "# train_loader = torch.utils.data.DataLoader(dataset=train_dataset,\n",
        "#                                            batch_size=batch_size,\n",
        "#                                            shuffle=True,\n",
        "#                                            num_workers=2)\n",
        "train_loader = torch.utils.data.DataLoader(train_dataset, batch_size=batch_size, \n",
        "                                           sampler=train_sampler)\n",
        "validation_loader = torch.utils.data.DataLoader(train_dataset, batch_size=batch_size,\n",
        "                                                sampler=valid_sampler)\n",
        "test_loader = torch.utils.data.DataLoader(dataset=test_dataset,\n",
        "                                          batch_size=batch_size,\n",
        "                                          shuffle=False)"
      ],
      "execution_count": null,
      "outputs": []
    },
    {
      "cell_type": "markdown",
      "metadata": {
        "id": "oIZQigjm041v"
      },
      "source": [
        "### Defining cnn class "
      ]
    },
    {
      "cell_type": "code",
      "metadata": {
        "id": "hfsie4oa5XER"
      },
      "source": [
        "import torch.nn as nn\n",
        "class ConvNet(nn.Module):\n",
        "    def __init__(self):\n",
        "        super(ConvNet, self).__init__()\n",
        "        self.layer1 = nn.Sequential(\n",
        "            nn.Conv2d(1, 32, kernel_size=5, stride=1, padding=2),\n",
        "            nn.LeakyReLU(0.02),\n",
        "            nn.MaxPool2d(kernel_size=2, stride=2))\n",
        "        self.drop_out = nn.Dropout(0.5)\n",
        "        self.layer2 = nn.Sequential(\n",
        "            nn.Conv2d(32, 64, kernel_size=5, stride=1, padding=2),\n",
        "            nn.LeakyReLU(0.02),\n",
        "            nn.MaxPool2d(kernel_size=2, stride=2))\n",
        "        self.drop_out = nn.Dropout(0.5)\n",
        "        self.fc1 = nn.Linear(7 * 7 * 64, 1000)\n",
        "        self.fc2 = nn.Linear(1000, 10)\n",
        "    def forward(self, x):\n",
        "        out = self.layer1(x)\n",
        "        out = self.layer2(out)\n",
        "        out = out.reshape(out.size(0), -1)\n",
        "        out = self.drop_out(out)\n",
        "        out = self.fc1(out)\n",
        "        out = self.fc2(out)\n",
        "        return out"
      ],
      "execution_count": null,
      "outputs": []
    },
    {
      "cell_type": "markdown",
      "metadata": {
        "id": "HC_1dLOL0-8E"
      },
      "source": [
        "### Defining training model with the help of gpu"
      ]
    },
    {
      "cell_type": "code",
      "metadata": {
        "id": "ZrcZXqLD5Zgq"
      },
      "source": [
        "model = ConvNet()\n",
        "model.to(device)"
      ],
      "execution_count": null,
      "outputs": []
    },
    {
      "cell_type": "markdown",
      "metadata": {
        "id": "SICqtoG_1TPi"
      },
      "source": [
        "### Using Adam optimizer"
      ]
    },
    {
      "cell_type": "code",
      "metadata": {
        "id": "Z4nCh_9t1Sra"
      },
      "source": [
        "# Loss and optimizer\n",
        "criterion = nn.CrossEntropyLoss()\n",
        "optimizer = torch.optim.Adam(model.parameters(), lr=learning_rate)"
      ],
      "execution_count": null,
      "outputs": []
    },
    {
      "cell_type": "markdown",
      "metadata": {
        "id": "FC-WdFh61ZvW"
      },
      "source": [
        "### Training model on training dataset"
      ]
    },
    {
      "cell_type": "code",
      "metadata": {
        "colab": {
          "base_uri": "https://localhost:8080/"
        },
        "id": "mKMyejQ75cpF",
        "outputId": "82bf5fa9-7629-4d74-a719-4630cdae64f7"
      },
      "source": [
        "#Train the model\n",
        "total_step = len(train_loader)\n",
        "loss_list = []\n",
        "acc_list = []\n",
        "acc_list_epoch = []\n",
        "for epoch in range(num_epochs):\n",
        "    acc_sum_present_epoch = []\n",
        "    for i, (images, labels) in enumerate(train_loader):\n",
        "        images, labels = images.to(device), labels.to(device)\n",
        "        # Run the forward pass\n",
        "        outputs = model(images)\n",
        "        loss = criterion(outputs, labels)\n",
        "        loss_list.append(loss.item())\n",
        "\n",
        "        # Backprop and perform Adam optimisation\n",
        "        optimizer.zero_grad()\n",
        "        loss.backward()\n",
        "        optimizer.step()\n",
        "\n",
        "        # Track the accuracy\n",
        "        total = labels.size(0)\n",
        "        _, predicted = torch.max(outputs.data, 1)\n",
        "        correct = (predicted == labels).sum().item()\n",
        "        acc_list.append((correct * 100)/ total)\n",
        "        acc_sum_present_epoch.append((correct / total) * 100)\n",
        "        print_after = (int)((dataset_size * 0.8)/(batch_size*3))\n",
        "        if (i + 1) % print_after == 0:\n",
        "            print('Epoch [{}/{}], Step [{}/{}], Loss: {:.4f}, Accuracy: {:.2f}%'\n",
        "                  .format(epoch + 1, num_epochs, i + 1, total_step, loss.item(),\n",
        "                          (correct / total) * 100))\n",
        "        \n",
        "        \n",
        "    \n",
        "    acc_list_epoch.append(sum(acc_sum_present_epoch)/len(acc_sum_present_epoch))\n",
        "    #print(acc_sum_present_epoch)\n",
        "    # for i in range(len(acc_sum_present_epoch)):\n",
        "    #     print(i,\" - > \",acc_sum_present_epoch[i])"
      ],
      "execution_count": null,
      "outputs": [
        {
          "output_type": "stream",
          "text": [
            "Epoch [1/20], Step [21/66], Loss: 5.5089, Accuracy: 75.98%\n",
            "Epoch [1/20], Step [42/66], Loss: 2.5503, Accuracy: 86.72%\n",
            "Epoch [1/20], Step [63/66], Loss: 1.2027, Accuracy: 90.04%\n",
            "Epoch [2/20], Step [21/66], Loss: 0.6903, Accuracy: 93.75%\n",
            "Epoch [2/20], Step [42/66], Loss: 0.6842, Accuracy: 93.36%\n",
            "Epoch [2/20], Step [63/66], Loss: 0.6711, Accuracy: 93.55%\n",
            "Epoch [3/20], Step [21/66], Loss: 0.3443, Accuracy: 95.70%\n",
            "Epoch [3/20], Step [42/66], Loss: 0.4275, Accuracy: 95.31%\n",
            "Epoch [3/20], Step [63/66], Loss: 0.2246, Accuracy: 96.29%\n",
            "Epoch [4/20], Step [21/66], Loss: 0.4657, Accuracy: 94.73%\n",
            "Epoch [4/20], Step [42/66], Loss: 0.2561, Accuracy: 95.70%\n",
            "Epoch [4/20], Step [63/66], Loss: 0.4804, Accuracy: 91.80%\n",
            "Epoch [5/20], Step [21/66], Loss: 0.2202, Accuracy: 95.31%\n",
            "Epoch [5/20], Step [42/66], Loss: 0.2641, Accuracy: 95.90%\n",
            "Epoch [5/20], Step [63/66], Loss: 0.2803, Accuracy: 94.73%\n",
            "Epoch [6/20], Step [21/66], Loss: 0.1570, Accuracy: 96.09%\n",
            "Epoch [6/20], Step [42/66], Loss: 0.1385, Accuracy: 96.09%\n",
            "Epoch [6/20], Step [63/66], Loss: 0.1153, Accuracy: 96.88%\n",
            "Epoch [7/20], Step [21/66], Loss: 0.1689, Accuracy: 96.29%\n",
            "Epoch [7/20], Step [42/66], Loss: 0.1120, Accuracy: 96.88%\n",
            "Epoch [7/20], Step [63/66], Loss: 0.1509, Accuracy: 96.09%\n",
            "Epoch [8/20], Step [21/66], Loss: 0.1864, Accuracy: 95.70%\n",
            "Epoch [8/20], Step [42/66], Loss: 0.2174, Accuracy: 96.68%\n",
            "Epoch [8/20], Step [63/66], Loss: 0.0793, Accuracy: 97.85%\n",
            "Epoch [9/20], Step [21/66], Loss: 0.1170, Accuracy: 96.88%\n",
            "Epoch [9/20], Step [42/66], Loss: 0.1058, Accuracy: 97.85%\n",
            "Epoch [9/20], Step [63/66], Loss: 0.1333, Accuracy: 97.46%\n",
            "Epoch [10/20], Step [21/66], Loss: 0.1000, Accuracy: 97.85%\n",
            "Epoch [10/20], Step [42/66], Loss: 0.0792, Accuracy: 97.85%\n",
            "Epoch [10/20], Step [63/66], Loss: 0.0811, Accuracy: 96.68%\n",
            "Epoch [11/20], Step [21/66], Loss: 0.0600, Accuracy: 97.66%\n",
            "Epoch [11/20], Step [42/66], Loss: 0.1063, Accuracy: 97.27%\n",
            "Epoch [11/20], Step [63/66], Loss: 0.0818, Accuracy: 96.88%\n",
            "Epoch [12/20], Step [21/66], Loss: 0.0823, Accuracy: 97.66%\n",
            "Epoch [12/20], Step [42/66], Loss: 0.0603, Accuracy: 98.83%\n",
            "Epoch [12/20], Step [63/66], Loss: 0.0888, Accuracy: 97.27%\n",
            "Epoch [13/20], Step [21/66], Loss: 0.0946, Accuracy: 97.66%\n",
            "Epoch [13/20], Step [42/66], Loss: 0.0342, Accuracy: 98.83%\n",
            "Epoch [13/20], Step [63/66], Loss: 0.0615, Accuracy: 97.66%\n",
            "Epoch [14/20], Step [21/66], Loss: 0.0817, Accuracy: 97.66%\n",
            "Epoch [14/20], Step [42/66], Loss: 0.0555, Accuracy: 98.24%\n",
            "Epoch [14/20], Step [63/66], Loss: 0.0586, Accuracy: 97.85%\n",
            "Epoch [15/20], Step [21/66], Loss: 0.0365, Accuracy: 99.02%\n",
            "Epoch [15/20], Step [42/66], Loss: 0.0952, Accuracy: 97.85%\n",
            "Epoch [15/20], Step [63/66], Loss: 0.1137, Accuracy: 97.07%\n",
            "Epoch [16/20], Step [21/66], Loss: 0.0596, Accuracy: 98.24%\n",
            "Epoch [16/20], Step [42/66], Loss: 0.0424, Accuracy: 98.44%\n",
            "Epoch [16/20], Step [63/66], Loss: 0.0881, Accuracy: 97.85%\n",
            "Epoch [17/20], Step [21/66], Loss: 0.0523, Accuracy: 97.85%\n",
            "Epoch [17/20], Step [42/66], Loss: 0.0426, Accuracy: 98.63%\n",
            "Epoch [17/20], Step [63/66], Loss: 0.0640, Accuracy: 98.44%\n",
            "Epoch [18/20], Step [21/66], Loss: 0.0758, Accuracy: 97.66%\n",
            "Epoch [18/20], Step [42/66], Loss: 0.0312, Accuracy: 98.44%\n",
            "Epoch [18/20], Step [63/66], Loss: 0.0439, Accuracy: 98.24%\n",
            "Epoch [19/20], Step [21/66], Loss: 0.0632, Accuracy: 98.05%\n",
            "Epoch [19/20], Step [42/66], Loss: 0.0351, Accuracy: 98.83%\n",
            "Epoch [19/20], Step [63/66], Loss: 0.0289, Accuracy: 99.02%\n",
            "Epoch [20/20], Step [21/66], Loss: 0.0357, Accuracy: 98.63%\n",
            "Epoch [20/20], Step [42/66], Loss: 0.0179, Accuracy: 99.22%\n",
            "Epoch [20/20], Step [63/66], Loss: 0.0184, Accuracy: 99.41%\n"
          ],
          "name": "stdout"
        }
      ]
    },
    {
      "cell_type": "code",
      "metadata": {
        "colab": {
          "base_uri": "https://localhost:8080/",
          "height": 798
        },
        "id": "QyqDTCSb_Ggu",
        "outputId": "9c4d376b-93ff-40c0-bc03-ee4f91ea3cdd"
      },
      "source": [
        "#accuracy curve\n",
        "batch_list = range(1,len(acc_list)+1)\n",
        "plt.plot(batch_list, acc_list, 'b', label='acc_list')\n",
        "plt.title('Training ')\n",
        "plt.legend()\n",
        "plt.show()\n",
        "\n",
        "plt.plot(batch_list, loss_list, 'r', label='loss_list')\n",
        "\n",
        "plt.yscale(\"log\") \n",
        "plt.legend()\n",
        "plt.show()\n",
        "\n",
        "#for each epoch\n",
        "epoches = range(1,num_epochs+1)\n",
        "plt.plot(epoches, acc_list_epoch, 'g', label='acc_list_epoch')"
      ],
      "execution_count": null,
      "outputs": [
        {
          "output_type": "display_data",
          "data": {
            "image/png": "[encoded data removed]",
            "text/plain": [
              "<Figure size 432x288 with 1 Axes>"
            ]
          },
          "metadata": {
            "tags": [],
            "needs_background": "light"
          }
        },
        {
          "output_type": "display_data",
          "data": {
            "image/png": "[encoded data removed]",
            "text/plain": [
              "<Figure size 432x288 with 1 Axes>"
            ]
          },
          "metadata": {
            "tags": [],
            "needs_background": "light"
          }
        },
        {
          "output_type": "execute_result",
          "data": {
            "text/plain": [
              "[<matplotlib.lines.Line2D at 0x7f5583068290>]"
            ]
          },
          "metadata": {
            "tags": []
          },
          "execution_count": 638
        },
        {
          "output_type": "display_data",
          "data": {
            "image/png": "[encoded data removed]",
            "text/plain": [
              "<Figure size 432x288 with 1 Axes>"
            ]
          },
          "metadata": {
            "tags": [],
            "needs_background": "light"
          }
        }
      ]
    },
    {
      "cell_type": "code",
      "metadata": {
        "colab": {
          "base_uri": "https://localhost:8080/"
        },
        "id": "OQEygk7T8VES",
        "outputId": "a32456c1-0635-4034-b4ea-e1a4b8234a35"
      },
      "source": [
        "# Test the model\n",
        "model.eval()\n",
        "with torch.no_grad():\n",
        "    correct = 0\n",
        "    total = 0\n",
        "    for images, labels in validation_loader:\n",
        "        images, labels = images.to(device), labels.to(device)\n",
        "        outputs = model(images)\n",
        "        _, predicted = torch.max(outputs.data, 1)\n",
        "        total += labels.size(0)\n",
        "        correct += (predicted == labels).sum().item()\n",
        "    print('Train Acc of the model on training images ',acc_list_epoch[-1])\n",
        "    print('Test Accuracy of the model on the  validation images: {} %'.format((correct / total) * 100))"
      ],
      "execution_count": null,
      "outputs": [
        {
          "output_type": "stream",
          "text": [
            "Train Acc of the model on training images  98.64050662878788\n",
            "Test Accuracy of the model on the  validation images: 98.38095238095238 %\n"
          ],
          "name": "stdout"
        }
      ]
    },
    {
      "cell_type": "code",
      "metadata": {
        "id": "ikxhXqWy5e4j"
      },
      "source": [
        "ans = np.array([])\n",
        "with torch.no_grad():\n",
        "    correct = 0\n",
        "    total = 0\n",
        "    for images in test_loader:\n",
        "        images = images.to(device)\n",
        "        outputs = model(images)\n",
        "        _,predicted = torch.max(outputs.data, 1)\n",
        "        ans = np.append (ans, predicted.to('cpu').numpy())"
      ],
      "execution_count": null,
      "outputs": []
    },
    {
      "cell_type": "code",
      "metadata": {
        "id": "tTYkD6z-5g33"
      },
      "source": [
        "np.savetxt(\"ans4.csv\", np.dstack((np.arange(1, ans.size+1),ans))[0],\"%d,%d\",header=\"ImageId,Label\",comments=\"\")"
      ],
      "execution_count": null,
      "outputs": []
    },
    {
      "cell_type": "code",
      "metadata": {
        "id": "t6h4nf4KCapA"
      },
      "source": [
        "#!kaggle competitions submit -c digit-recognizer -f ans4.csv -m \"Message\""
      ],
      "execution_count": null,
      "outputs": []
    },
    {
      "cell_type": "code",
      "metadata": {
        "id": "bc4a_Sktn6Hp"
      },
      "source": [
        "#final model training with 100% data\n"
      ],
      "execution_count": null,
      "outputs": []
    }
  ]
}